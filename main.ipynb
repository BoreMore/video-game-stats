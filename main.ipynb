{
 "cells": [
  {
   "cell_type": "markdown",
   "metadata": {},
   "source": [
    "# Which genre of video games had more global unit sales as of 2016: action or sports games?"
   ]
  },
  {
   "cell_type": "markdown",
   "metadata": {},
   "source": [
    "Dataset: https://www.kaggle.com/gregorut/videogamesales\n",
    "\n",
    "This dataset only contains video games that sold over 100,000 copies as of 2016 (according to the author). However, the author likely made a typo, and the dataset only contains video games that sold over *10,000* copies. The global sales are in millions, and the lowest global sales are 0.01 million, which is 10,000.\n",
    "\n",
    "According to the author, the data was scraped from VGChartz, a website which charts video games. The data includes all cumulative (so from before 2016, too) global unit sales (in millions). The data was collected in late 2016; the data was uploaded to Kaggle on 10/26/2016, so it may have been collected a few days prior."
   ]
  },
  {
   "cell_type": "markdown",
   "metadata": {},
   "source": [
    "# Preparing the Data for Analysis"
   ]
  },
  {
   "cell_type": "code",
   "execution_count": 1,
   "metadata": {},
   "outputs": [
    {
     "name": "stdout",
     "output_type": "stream",
     "text": [
      "   Rank                      Name Platform    Year         Genre Publisher  \\\n",
      "0     1                Wii Sports      Wii  2006.0        Sports  Nintendo   \n",
      "1     2         Super Mario Bros.      NES  1985.0      Platform  Nintendo   \n",
      "2     3            Mario Kart Wii      Wii  2008.0        Racing  Nintendo   \n",
      "3     4         Wii Sports Resort      Wii  2009.0        Sports  Nintendo   \n",
      "4     5  Pokemon Red/Pokemon Blue       GB  1996.0  Role-Playing  Nintendo   \n",
      "\n",
      "   NA_Sales  EU_Sales  JP_Sales  Other_Sales  Global_Sales  \n",
      "0     41.49     29.02      3.77         8.46         82.74  \n",
      "1     29.08      3.58      6.81         0.77         40.24  \n",
      "2     15.85     12.88      3.79         3.31         35.82  \n",
      "3     15.75     11.01      3.28         2.96         33.00  \n",
      "4     11.27      8.89     10.22         1.00         31.37  \n"
     ]
    }
   ],
   "source": [
    "# necessary imports\n",
    "import pandas as pd\n",
    "import matplotlib.pyplot as plt\n",
    "import numpy as np\n",
    "import seaborn as sns\n",
    "\n",
    "# load csv\n",
    "df = pd.read_csv('vgsales.csv')\n",
    "\n",
    "# print first 5 rows of dataset\n",
    "print(df.head())"
   ]
  },
  {
   "cell_type": "code",
   "execution_count": 2,
   "metadata": {
    "scrolled": false
   },
   "outputs": [
    {
     "name": "stdout",
     "output_type": "stream",
     "text": [
      "Index(['Year', 'Publisher'], dtype='object')\n"
     ]
    }
   ],
   "source": [
    "# find which columns contain null values\n",
    "print(df.columns[df.isna().any()])\n",
    "\n",
    "# There are null values in the 'Year' and 'Publisher' columns, both of which aren't needed for this statistical analysis."
   ]
  },
  {
   "cell_type": "code",
   "execution_count": 3,
   "metadata": {},
   "outputs": [
    {
     "name": "stdout",
     "output_type": "stream",
     "text": [
      "        Genre  Global_Sales\n",
      "0      Sports         82.74\n",
      "3      Sports         33.00\n",
      "13     Sports         22.72\n",
      "14     Sports         22.00\n",
      "77     Sports          8.49\n",
      "...       ...           ...\n",
      "16576  Sports          0.01\n",
      "16578  Sports          0.01\n",
      "16579  Sports          0.01\n",
      "16581  Sports          0.01\n",
      "16587  Sports          0.01\n",
      "\n",
      "[2346 rows x 2 columns]\n",
      "        Genre  Global_Sales\n",
      "16     Action         21.40\n",
      "17     Action         20.81\n",
      "23     Action         16.38\n",
      "24     Action         16.15\n",
      "38     Action         13.10\n",
      "...       ...           ...\n",
      "16564  Action          0.01\n",
      "16567  Action          0.01\n",
      "16582  Action          0.01\n",
      "16583  Action          0.01\n",
      "16589  Action          0.01\n",
      "\n",
      "[3316 rows x 2 columns]\n"
     ]
    }
   ],
   "source": [
    "# get only the 2 columns needed for this analysis - genre and global sales\n",
    "df_genres = df[['Genre', 'Global_Sales']]\n",
    "\n",
    "# select only rows with 'Sports' or 'Action' genre since these are the genres of interest\n",
    "df_genres = df_genres[(df_genres['Genre'] == 'Sports') | (df_genres['Genre'] == 'Action')]\n",
    "\n",
    "# split into dataframes with only sports and only action genre\n",
    "df_sports = df_genres[df_genres['Genre'] == 'Sports']\n",
    "df_action = df_genres[df_genres['Genre'] == 'Action']\n",
    "\n",
    "# verify that the new dataframes contain only one genre\n",
    "print(df_sports)\n",
    "print(df_action)\n",
    "\n",
    "# Note: this also shows there are 2346 sports games in the dataset and 3316 action games.\n",
    "# The lowest global sales are 0.01 million for both populations."
   ]
  },
  {
   "cell_type": "code",
   "execution_count": 4,
   "metadata": {},
   "outputs": [
    {
     "name": "stdout",
     "output_type": "stream",
     "text": [
      "[8.274e+01 3.300e+01 2.272e+01 ... 1.000e-02 1.000e-02 1.000e-02]\n",
      "[2.140e+01 2.081e+01 1.638e+01 ... 1.000e-02 1.000e-02 1.000e-02]\n"
     ]
    }
   ],
   "source": [
    "# convert both dataframes to numpy arrays for easier data handling/sampling in the future\n",
    "sports = df_sports['Global_Sales'].values\n",
    "action = df_action['Global_Sales'].values\n",
    "\n",
    "print(sports)\n",
    "print(action)"
   ]
  },
  {
   "cell_type": "markdown",
   "metadata": {},
   "source": [
    "# Data Visualization & Summary Statistics"
   ]
  },
  {
   "cell_type": "code",
   "execution_count": 5,
   "metadata": {},
   "outputs": [
    {
     "data": {
      "text/html": [
       "<div>\n",
       "<style scoped>\n",
       "    .dataframe tbody tr th:only-of-type {\n",
       "        vertical-align: middle;\n",
       "    }\n",
       "\n",
       "    .dataframe tbody tr th {\n",
       "        vertical-align: top;\n",
       "    }\n",
       "\n",
       "    .dataframe thead th {\n",
       "        text-align: right;\n",
       "    }\n",
       "</style>\n",
       "<table border=\"1\" class=\"dataframe\">\n",
       "  <thead>\n",
       "    <tr style=\"text-align: right;\">\n",
       "      <th></th>\n",
       "      <th>Global_Sales</th>\n",
       "    </tr>\n",
       "  </thead>\n",
       "  <tbody>\n",
       "    <tr>\n",
       "      <th>count</th>\n",
       "      <td>2346.000000</td>\n",
       "    </tr>\n",
       "    <tr>\n",
       "      <th>mean</th>\n",
       "      <td>0.567319</td>\n",
       "    </tr>\n",
       "    <tr>\n",
       "      <th>std</th>\n",
       "      <td>2.089716</td>\n",
       "    </tr>\n",
       "    <tr>\n",
       "      <th>min</th>\n",
       "      <td>0.010000</td>\n",
       "    </tr>\n",
       "    <tr>\n",
       "      <th>25%</th>\n",
       "      <td>0.090000</td>\n",
       "    </tr>\n",
       "    <tr>\n",
       "      <th>50%</th>\n",
       "      <td>0.220000</td>\n",
       "    </tr>\n",
       "    <tr>\n",
       "      <th>75%</th>\n",
       "      <td>0.560000</td>\n",
       "    </tr>\n",
       "    <tr>\n",
       "      <th>max</th>\n",
       "      <td>82.740000</td>\n",
       "    </tr>\n",
       "  </tbody>\n",
       "</table>\n",
       "</div>"
      ],
      "text/plain": [
       "       Global_Sales\n",
       "count   2346.000000\n",
       "mean       0.567319\n",
       "std        2.089716\n",
       "min        0.010000\n",
       "25%        0.090000\n",
       "50%        0.220000\n",
       "75%        0.560000\n",
       "max       82.740000"
      ]
     },
     "execution_count": 5,
     "metadata": {},
     "output_type": "execute_result"
    }
   ],
   "source": [
    "# Sports Genre summary statistics\n",
    "df_sports.describe()"
   ]
  },
  {
   "cell_type": "code",
   "execution_count": 6,
   "metadata": {},
   "outputs": [
    {
     "data": {
      "text/html": [
       "<div>\n",
       "<style scoped>\n",
       "    .dataframe tbody tr th:only-of-type {\n",
       "        vertical-align: middle;\n",
       "    }\n",
       "\n",
       "    .dataframe tbody tr th {\n",
       "        vertical-align: top;\n",
       "    }\n",
       "\n",
       "    .dataframe thead th {\n",
       "        text-align: right;\n",
       "    }\n",
       "</style>\n",
       "<table border=\"1\" class=\"dataframe\">\n",
       "  <thead>\n",
       "    <tr style=\"text-align: right;\">\n",
       "      <th></th>\n",
       "      <th>Global_Sales</th>\n",
       "    </tr>\n",
       "  </thead>\n",
       "  <tbody>\n",
       "    <tr>\n",
       "      <th>count</th>\n",
       "      <td>3316.000000</td>\n",
       "    </tr>\n",
       "    <tr>\n",
       "      <th>mean</th>\n",
       "      <td>0.528100</td>\n",
       "    </tr>\n",
       "    <tr>\n",
       "      <th>std</th>\n",
       "      <td>1.156427</td>\n",
       "    </tr>\n",
       "    <tr>\n",
       "      <th>min</th>\n",
       "      <td>0.010000</td>\n",
       "    </tr>\n",
       "    <tr>\n",
       "      <th>25%</th>\n",
       "      <td>0.070000</td>\n",
       "    </tr>\n",
       "    <tr>\n",
       "      <th>50%</th>\n",
       "      <td>0.190000</td>\n",
       "    </tr>\n",
       "    <tr>\n",
       "      <th>75%</th>\n",
       "      <td>0.500000</td>\n",
       "    </tr>\n",
       "    <tr>\n",
       "      <th>max</th>\n",
       "      <td>21.400000</td>\n",
       "    </tr>\n",
       "  </tbody>\n",
       "</table>\n",
       "</div>"
      ],
      "text/plain": [
       "       Global_Sales\n",
       "count   3316.000000\n",
       "mean       0.528100\n",
       "std        1.156427\n",
       "min        0.010000\n",
       "25%        0.070000\n",
       "50%        0.190000\n",
       "75%        0.500000\n",
       "max       21.400000"
      ]
     },
     "execution_count": 6,
     "metadata": {},
     "output_type": "execute_result"
    }
   ],
   "source": [
    "# Action Genre summary statistics\n",
    "df_action.describe()"
   ]
  },
  {
   "cell_type": "markdown",
   "metadata": {},
   "source": [
    "### Outliers\n",
    "\n",
    "Outliers are calculated using the following formulas:\n",
    "\n",
    "$$ lower\\ outlier\\ <\\ Q_{1}\\ -\\ \\left(1.5\\cdot IQR\\right) $$\n",
    "$$ upper\\ outlier\\ >\\ Q_{3}\\ +\\ \\left(1.5\\cdot IQR\\right) $$\n",
    "\n",
    "The code for this is in the cell below this one."
   ]
  },
  {
   "cell_type": "code",
   "execution_count": 7,
   "metadata": {},
   "outputs": [],
   "source": [
    "# class to calculate outliers\n",
    "class OutlierCalculatorClass:\n",
    "    # initialize with given dataframe\n",
    "    def __init__(self, df_to_use):\n",
    "        self.df_to_use = df_to_use\n",
    "        \n",
    "    # calculate IQR\n",
    "    # IQR = Q3 - Q1\n",
    "    def iqr_calculation(self):\n",
    "        self.q3 = self.df_to_use['Global_Sales'].quantile(.75)\n",
    "        self.q1 = self.df_to_use['Global_Sales'].quantile(.25)\n",
    "        self.IQR = self.q3 - self.q1\n",
    "        \n",
    "        print(\"IQR: {IQR: .3f}\".format(IQR=self.IQR))\n",
    "    \n",
    "    # Find outlier cutoffs\n",
    "    # For the lower outlier cutoff: Q1 - (1.5 * IQR). Any values below this are outliers.\n",
    "    # For the upper outlier cutoff: Q3 + (1.5 * IQR). Any values above this are outliers.\n",
    "    def outlier_cutoffs(self):\n",
    "        self.lower_outlier_cutoff = self.q1 - (1.5 * self.IQR)\n",
    "        self.upper_outlier_cutoff = self.q3 + (1.5 * self.IQR)\n",
    "        \n",
    "        print(\"Lower Outlier Cutoff: {low_cutoff: .3f}\".format(low_cutoff=self.lower_outlier_cutoff))\n",
    "        print(\"Upper Outlier Cutoff: {high_cutoff: .3f}\".format(high_cutoff=self.upper_outlier_cutoff))\n",
    "        \"\"\"return (self.lower_outlier_cutoff, self.upper_outlier_cutoff)\"\"\"\n",
    "    \n",
    "    # check how many data values are under the lower outlier cutoff and how many are above the upper outlier cutoff\n",
    "    def num_outliers(self):\n",
    "        self.lower_outlier_count = len(self.df_to_use[self.df_to_use['Global_Sales'] < self.lower_outlier_cutoff])\n",
    "        self.upper_outlier_count = len(self.df_to_use[self.df_to_use['Global_Sales'] > self.upper_outlier_cutoff])\n",
    "        self.total_outlier_count = self.upper_outlier_count + self.lower_outlier_count\n",
    "        \n",
    "        print(\"There are {lower} lower outliers and {upper} upper outliers.\"\n",
    "          .format(lower=self.lower_outlier_count, upper=self.upper_outlier_count))\n",
    "        print(\"There are {total_outliers} total outliers.\"\n",
    "          .format(total_outliers=self.total_outlier_count))"
   ]
  },
  {
   "cell_type": "code",
   "execution_count": 8,
   "metadata": {},
   "outputs": [
    {
     "name": "stdout",
     "output_type": "stream",
     "text": [
      "IQR:  0.470\n",
      "Lower Outlier Cutoff: -0.615\n",
      "Upper Outlier Cutoff:  1.265\n",
      "There are 0 lower outliers and 226 upper outliers.\n",
      "There are 226 total outliers.\n"
     ]
    }
   ],
   "source": [
    "# Sports Genre Outliers:\n",
    "\n",
    "# initialize class instance for sports genre outliers\n",
    "outliers = OutlierCalculatorClass(df_sports)\n",
    "\n",
    "# get IQR\n",
    "outliers.iqr_calculation()\n",
    "\n",
    "# find outlier cutoffs\n",
    "outliers.outlier_cutoffs()\n",
    "\n",
    "# How many total outliers are there?\n",
    "outliers.num_outliers()"
   ]
  },
  {
   "cell_type": "code",
   "execution_count": 9,
   "metadata": {},
   "outputs": [
    {
     "name": "stdout",
     "output_type": "stream",
     "text": [
      "IQR:  0.430\n",
      "Lower Outlier Cutoff: -0.575\n",
      "Upper Outlier Cutoff:  1.145\n",
      "There are 0 lower outliers and 358 upper outliers.\n",
      "There are 358 total outliers.\n"
     ]
    }
   ],
   "source": [
    "# Action Genre Outliers\n",
    "\n",
    "# initialize class instance for action genre outliers\n",
    "outliers = OutlierCalculatorClass(df_action)\n",
    "\n",
    "# get IQR\n",
    "outliers.iqr_calculation()\n",
    "\n",
    "# find outlier cutoffs\n",
    "outliers.outlier_cutoffs()\n",
    "\n",
    "# How many total outliers are there?\n",
    "outliers.num_outliers()"
   ]
  },
  {
   "cell_type": "markdown",
   "metadata": {},
   "source": [
    "### Histograms"
   ]
  },
  {
   "cell_type": "code",
   "execution_count": 10,
   "metadata": {
    "scrolled": false
   },
   "outputs": [
    {
     "data": {
      "image/png": "[encoded data removed]",
      "text/plain": [
       "<Figure size 702x468 with 1 Axes>"
      ]
     },
     "metadata": {
      "needs_background": "light"
     },
     "output_type": "display_data"
    }
   ],
   "source": [
    "# Sports Histogram\n",
    "ax = sns.displot(sports, height=6.5, aspect=1.5)\n",
    "ax.set(xlabel='Global Sports Game Copies Sold (in millions)', ylabel='Frequency')\n",
    "plt.gca().set_title('Histogram of Global Sports Game Copies Sold')\n",
    "plt.show()"
   ]
  },
  {
   "cell_type": "code",
   "execution_count": 11,
   "metadata": {},
   "outputs": [
    {
     "data": {
      "image/png": "[encoded data removed]",
      "text/plain": [
       "<Figure size 702x468 with 1 Axes>"
      ]
     },
     "metadata": {
      "needs_background": "light"
     },
     "output_type": "display_data"
    }
   ],
   "source": [
    "# Action Histogram\n",
    "ax = sns.displot(action, height=6.5, aspect=1.5)\n",
    "ax.set(xlabel='Global Action Game Copies Sold (in millions)', ylabel='Frequency')\n",
    "plt.gca().set_title('Histogram of Global Action Game Copies Sold')\n",
    "plt.show()"
   ]
  },
  {
   "cell_type": "markdown",
   "metadata": {},
   "source": [
    "### Density Plots (KDE)\n",
    "Source for KDE code: [Seaborn documentation](https://seaborn.pydata.org/tutorial/distributions.html#tutorial-kde)"
   ]
  },
  {
   "cell_type": "code",
   "execution_count": 12,
   "metadata": {},
   "outputs": [
    {
     "data": {
      "image/png": "[encoded data removed]",
      "text/plain": [
       "<Figure size 720x540 with 1 Axes>"
      ]
     },
     "metadata": {
      "needs_background": "light"
     },
     "output_type": "display_data"
    }
   ],
   "source": [
    "# shaded kernel density estimate (KDE) plots\n",
    "plt.figure(figsize=(10, 7.5))\n",
    "ax = sns.kdeplot(sports, alpha=0.2, color='blue', shade=True, label='Sports', bw_adjust=5)\n",
    "sns.kdeplot(action, alpha=0.2, ax=ax, color='red', shade=True, label='Action', bw_adjust=5)\n",
    "ax.set(xlabel='Global Game Copies Sold (in millions)', ylabel='Density')\n",
    "ax.legend()\n",
    "plt.gca().set_title('Density Plot Comparison of Global Sports and Action Game Copies Sold')\n",
    "plt.show()"
   ]
  },
  {
   "cell_type": "code",
   "execution_count": 13,
   "metadata": {},
   "outputs": [
    {
     "data": {
      "image/png": "[encoded data removed]",
      "text/plain": [
       "<Figure size 720x540 with 1 Axes>"
      ]
     },
     "metadata": {
      "needs_background": "light"
     },
     "output_type": "display_data"
    }
   ],
   "source": [
    "# zooming in on highest density of the shaded density plots\n",
    "plt.figure(figsize=(10, 7.5))\n",
    "ax = sns.kdeplot(sports, alpha=0.2, color='blue', shade=True, label='Sports', bw_adjust=5)\n",
    "sns.kdeplot(action, alpha=0.2, ax=ax, color='red', shade=True, label='Action', bw_adjust=5)\n",
    "ax.set(xlabel='Global Game Copies Sold (in millions)', ylabel='Density')\n",
    "ax.legend()\n",
    "plt.xlim(-7.5,15)\n",
    "plt.gca().set_title('Density Plot Comparison of Global Sports and Action Game Copies Sold (zoomed)')\n",
    "plt.show()"
   ]
  },
  {
   "cell_type": "markdown",
   "metadata": {},
   "source": [
    "### Box Plot (with outliers omitted)"
   ]
  },
  {
   "cell_type": "code",
   "execution_count": 14,
   "metadata": {},
   "outputs": [
    {
     "data": {
      "image/png": "[encoded data removed]",
      "text/plain": [
       "<Figure size 720x540 with 1 Axes>"
      ]
     },
     "metadata": {
      "needs_background": "light"
     },
     "output_type": "display_data"
    }
   ],
   "source": [
    "# box plot to compare both populations\n",
    "plt.figure(figsize=(10, 7.5))\n",
    "color_pallete = {'Sports': 'blue', 'Action': 'red'}\n",
    "ax = sns.boxplot(x='Genre', y='Global_Sales', data=df_genres, showfliers=False, palette=color_pallete)\n",
    "ax.set(xlabel='Genre', ylabel='Global Game Copies Sold (in millions)')\n",
    "plt.setp(ax.artists, alpha=.5, linewidth=2, edgecolor='black')\n",
    "plt.gca().set_title('Box Plot Comparison of Global Sports and Action Game Copies Sold')\n",
    "plt.show()"
   ]
  },
  {
   "cell_type": "markdown",
   "metadata": {},
   "source": [
    "## Data Descriptions"
   ]
  },
  {
   "cell_type": "markdown",
   "metadata": {},
   "source": [
    "### Sports Video Game Sales SOCS:\n",
    "**Shape:** The sports video game sales data is skewed to the right, as evidenced by the box plot and histogram. Thus, the mean will be greater than the median. This also suggests that most video games did not generate large numbers of unit sales.\n",
    "\n",
    "**Outliers:** There are $ 226 $ total outliers in the sports genre data. All of them were upper outliers (higher than the rest of the distribution of the data).\n",
    "\n",
    "**Center:** The sports genre mean sales are $ 0.567319 $ million units. The sports genre median sales are $ 0.22 $ million units.\n",
    "\n",
    "**Spread:** The IQR of the data is $ 0.47 $ million copies, which means the difference between quartile 3 and quartile 1 is $ 0.47 $ million. The range is $ 82.73 $ million copies, which means the difference between the highest and lowest values is $ 82.73 $ million. The standard deviation is $ 2.089716 $ million copies, which means each data value, on average, lies $ 2.090 $ million video game copies from the mean."
   ]
  },
  {
   "cell_type": "markdown",
   "metadata": {},
   "source": [
    "### Action Video Game Sales SOCS:\n",
    "**Shape:** The action video game sales data is skewed to the right, as evidenced by the box plot and histogram. The mean will be greater than the median, and most video games did not generate large numbers of unit sales.\n",
    "\n",
    "**Outliers:** There are $ 358 $ total outliers in the action genre data. All of them were upper outliers (higher than the rest of the data distribution).\n",
    "\n",
    "**Center:** The action genre mean sales are $ 0.528100 $ million units. The action genre median sales are $ 0.19 $ million units.\n",
    "\n",
    "**Spread:** The IQR of the data is $ 0.43 $ million copies, which means the difference between quartile 3 and quartile 1 is $ 0.43 $ million. The range is $ 21.39 $ million copies, which means the difference between the highest and lowest values is $ 21.39 $ million. The standard deviation is $ 1.156427 $ million copies, which means each data value, on average, lies $ 1.156 $ million video game copies from the mean.\n"
   ]
  },
  {
   "cell_type": "markdown",
   "metadata": {},
   "source": [
    "# Inferences"
   ]
  },
  {
   "cell_type": "markdown",
   "metadata": {},
   "source": [
    "### Conditions That Must Be Met\n",
    "*This applies for both confidence intervals and significance tests.*\n",
    "###### 1. Random Sample (data must be randomly sampled from population)\n",
    "###### 2. Independent Sample ($ n\\ \\le 0.10p $)\n",
    "###### 3. Normality (population has normal distribution, or $ n\\ \\ge\\ 30 $, or $ n\\ \\ge\\ 15 $ because t-procedures are robust)"
   ]
  },
  {
   "cell_type": "markdown",
   "metadata": {},
   "source": [
    "#### 1. Random Sample\n",
    "By looking at the dataset, particularly the rank column and the global sales column, it is fair to assume that the author sorted by sales (top selling first) when scraping. This would imply that the sample of video games in this dataset is not random and is rather a convenience sample. Thus, this is a shortcoming of the sampling methodology, and the result will be that the confidence interval and significance test cannot be accurately generalized to the population of interest (which includes ALL video games in the action and sports genres)."
   ]
  },
  {
   "cell_type": "markdown",
   "metadata": {},
   "source": [
    "#### 2. Independent Sample\n",
    "Remember, there are $ 2346 $ sports games in the dataset and $ 3316 $ action games.\n",
    "\n",
    "The population for each sample has to be at least 10 times greater than the sample size to satisfy the independence condition. \n",
    "&nbsp;\n",
    "\n",
    "&nbsp;\n",
    "\n",
    "For sports games, the population must have at least $ 10n_{s} = 10(2346) = 23460 $ sports games with sales as of 2016. It is safe to assume that there are more than this number of video games on the market because anyone can create and sell a video game and the population can contain games with past sales (not just for 2016).\n",
    "&nbsp;\n",
    "\n",
    "&nbsp;\n",
    "\n",
    "For action games, the population must have at least $ 10n_{a} = 10(3316) = 33160 $ sports games with sales as of 2016. It is safe to assume that there are more than this number of video games on the market because anyone can create and sell a video game and the population can contain games with past sales (not just for 2016)."
   ]
  },
  {
   "cell_type": "markdown",
   "metadata": {},
   "source": [
    "#### 3. Normality\n",
    "The samples include 2346 sports games and 3316 action games. This sample size from each population is over 30, so the normality condition is satisfied."
   ]
  },
  {
   "cell_type": "markdown",
   "metadata": {},
   "source": [
    "### The Question\n",
    "The original question:\n",
    "\n",
    "\n",
    "Which genre of video games had more global unit sales as of 2016: action or sports games?"
   ]
  },
  {
   "cell_type": "markdown",
   "metadata": {},
   "source": [
    "### Confidence Interval For The Difference in The Sample Means (2-sample t-interval)"
   ]
  },
  {
   "cell_type": "markdown",
   "metadata": {},
   "source": [
    "#### State:\n",
    "We want to estimate the difference ($ \\mu_{a} - \\mu_{s} $) between the true mean of action game sales ($ \\mu_{a} $) and the true mean of sports game sales ($ \\mu_{s} $) at a 95% confidence level.\n",
    "\n",
    "#### Plan (conditions were discussed earlier): \n",
    "To calculate the confidence interval for a difference in two sample means a 2-sample t-interval should be used:\n",
    "$$ confidence\\ interval\\ =\\ \\ \\left(\\overline{x}_{a}\\ -\\ \\overline{x}_{s}\\right)\\pm t^{*}\\left(\\sqrt{\\frac{s_{a}^{2}}{n_{a}}+\\frac{s_{s}^{2}}{n_{s}}}\\right) $$\n",
    "\n",
    "where $ \\overline{x} $ is the mean of the sample,\n",
    "$ t^{*} $ is the t-critical value for the 95% interval,\n",
    "$ s $ is the standard deviation of the sample, and\n",
    "$ n $ is the sample size.\n",
    "The subscripts also denote which population the sample is from."
   ]
  },
  {
   "cell_type": "code",
   "execution_count": 15,
   "metadata": {},
   "outputs": [
    {
     "data": {
      "text/plain": [
       "(Global_Sales   -0.117527\n",
       " dtype: float64,\n",
       " Global_Sales    0.039089\n",
       " dtype: float64)"
      ]
     },
     "execution_count": 15,
     "metadata": {},
     "output_type": "execute_result"
    }
   ],
   "source": [
    "# Do:\n",
    "\n",
    "from scipy.stats import t\n",
    "# function to create a confidence interval\n",
    "def confidence_interval(df1, df2, confidence_level):\n",
    "    # 1st sample size\n",
    "    n1 = len(df1)\n",
    "    # 2nd sample size\n",
    "    n2 = len(df2)\n",
    "    # x1 - x2\n",
    "    statistic = df1.mean() - df2.mean()\n",
    "    # degrees of freedom - according to class notes should be the smaller of the sample sizes minus 1\n",
    "    degrees_of_freedom = min(n1, n2) - 1\n",
    "    # t*\n",
    "    t_crit_val = t.ppf(confidence_level, degrees_of_freedom)\n",
    "    # std of 1st sample\n",
    "    std1 = df1.std()\n",
    "    # std of 2nd sample\n",
    "    std2 = df2.std()\n",
    "    # margin of error\n",
    "    margin_of_error = t_crit_val*(((std1**2/n1)+(std2**2/n2))**(1/2))\n",
    "    # lower confidence interval bound\n",
    "    lower_limit = statistic - margin_of_error\n",
    "    # upper confidence interval bound\n",
    "    upper_limit = statistic + margin_of_error\n",
    "    # return interval in the form of a tuple\n",
    "    return (lower_limit, upper_limit)\n",
    "\n",
    "#rand_sample_1 = df_action.sample(n=331, random_state=1)\n",
    "#rand_sample_2 = df_sports.sample(n=234, random_state=2)\n",
    "confidence_interval(df_action, df_sports, .95)"
   ]
  },
  {
   "cell_type": "markdown",
   "metadata": {},
   "source": [
    "#### Interpretation + Conclusion for Confidence Interval\n",
    "The confidence interval was $ (-0.117527, 0.039089) $, so we are 95% confident that the difference in population means of millions of video game unit sales for the two genres (action minus sports) is between -0.117527 million video game unit sales and 0.039089 million video game unit sales.\n",
    "&nbsp;\n",
    "\n",
    "&nbsp;\n",
    "\n",
    "Because 0 is contained in the confidence interval, we can be 95% confident that there is no statistically significant difference between action game unit sales and sports game unit sales."
   ]
  },
  {
   "cell_type": "markdown",
   "metadata": {},
   "source": [
    "### Significance Test (2-sample t-test)"
   ]
  },
  {
   "cell_type": "markdown",
   "metadata": {},
   "source": [
    "#### State:\n",
    "Setting up a test:\n",
    "$$ H_{0}:\\ \\mu_{a}-\\mu_{s}=0 $$\n",
    "$$ H_{a}:\\ \\mu_{a}-\\mu_{s}\\neq0 $$\n",
    "\n",
    "Again, $ \\mu_{a} $ will represent the true mean of the action game unit sales and $ \\mu_{s} $ will represent the true mean of the sports game unit sales.\n",
    "\n",
    "We can use an alpha value of 0.05 ($ \\alpha = 0.05 $).\n",
    "#### Plan (conditions discussed earlier):\n",
    "A 2-sample t-test can be carried out using the following formula:\n",
    "$$ t\\ =\\frac{\\left(\\overline{x}_{a}-\\overline{x}_{s}\\right)-\\left(\\mu_{a}-\\mu_{s}\\right)}{\\sqrt{\\frac{s_{a}^{2}}{n_{a}}+\\frac{s_{s}^{2}}{n_{s}}}} $$\n",
    "&nbsp;\n",
    "\n",
    "\n",
    "A tCDF can then be used to determine the p-value. If the p-value is below the 0.05 significance level, then the null hypothesis will be rejected. "
   ]
  },
  {
   "cell_type": "code",
   "execution_count": 16,
   "metadata": {},
   "outputs": [
    {
     "data": {
      "text/plain": [
       "(Global_Sales   -0.824111\n",
       " dtype: float64,\n",
       " array([0.40996016]))"
      ]
     },
     "execution_count": 16,
     "metadata": {},
     "output_type": "execute_result"
    }
   ],
   "source": [
    "# Do:\n",
    "from scipy.stats import t\n",
    "\n",
    "# function to find both the test statistic and p value\n",
    "def significance_test(df1, df2, alpha):\n",
    "    # size of 1st sample\n",
    "    n1 = len(df1)\n",
    "    # size of 2nd sample\n",
    "    n2 = len(df2)\n",
    "    # std of 1st sample\n",
    "    std1 = df1.std()\n",
    "    # std of 2nd sample\n",
    "    std2 = df2.std()\n",
    "    # the numerator of the standardized test statistic\n",
    "    statistic_minus_parameter = (df1.mean() - df2.mean()) - (0)\n",
    "    # standardized test statistic\n",
    "    test_statistic = (statistic_minus_parameter)/(((std1**2/n1)+(std2**2/n2))**(1/2))\n",
    "    # p-value from one-tailed test - source: https://stackoverflow.com/questions/23879049/finding-two-tailed-p-value-from-t-distribution-and-degrees-of-freedom-in-python\n",
    "    one_sided_test = t.sf(abs(test_statistic), min(len(df1), len(df2)) - 1)\n",
    "    # p-value from two-tailed test\n",
    "    two_sided_test = 2 * one_sided_test\n",
    "    # return the p-value from the two-tailed test\n",
    "    return test_statistic, two_sided_test\n",
    "\n",
    "significance_test(df_action, df_sports, 0.05)"
   ]
  },
  {
   "cell_type": "markdown",
   "metadata": {},
   "source": [
    "#### Interpretation + Conclusion for Significance Test\n",
    "The test statistic is -0.824111, and the p-value is 0.40996016. Because this p-value is greater than $ \\alpha = 0.05 $, we fail to reject the null hypothesis, $ H_{0} $.\n",
    "&nbsp;\n",
    "\n",
    "&nbsp;\n",
    "\n",
    "With the assumption that there is no difference between the population means of action and sports video game unit sales, the probability of observing a test statistic less than -0.824 or greater than 0.0824 is approximately 0.410. Therefore, there is not convincing enough evidence to conclude that there is a statistically significant difference between action game unit sales and sports game unit sales."
   ]
  },
  {
   "cell_type": "markdown",
   "metadata": {},
   "source": [
    "# Conclusions/Summary\n",
    "There is no statistically significant difference between action and sports video game unit sales as of 2016. Both action games and sports games had approximately the same amount of unit sales as of 2016. These results were somewhat unexpected, as the sports genre sample appeared to have a greater mean and median than the action genre sample when they were initially compared.\n",
    "\n",
    "## Further Questions to Study\n",
    "It would be interesting to see whether there is a statistically significant difference between the net sales (in dollars) of sports and action video games. Another interesting area of study would be to explore whether unit sales of a video game can be predicted (perhaps with a neural network) based on other factors, such as genre, platform, and publisher."
   ]
  }
 ],
 "metadata": {
  "kernelspec": {
   "display_name": "Python 3",
   "language": "python",
   "name": "python3"
  },
  "language_info": {
   "codemirror_mode": {
    "name": "ipython",
    "version": 3
   },
   "file_extension": ".py",
   "mimetype": "text/x-python",
   "name": "python",
   "nbconvert_exporter": "python",
   "pygments_lexer": "ipython3",
   "version": "3.7.6"
  }
 },
 "nbformat": 4,
 "nbformat_minor": 4
}
